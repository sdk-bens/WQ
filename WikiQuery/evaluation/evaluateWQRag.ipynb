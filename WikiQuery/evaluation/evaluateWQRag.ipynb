{
  "nbformat": 4,
  "nbformat_minor": 0,
  "metadata": {
    "colab": {
      "provenance": []
    },
    "kernelspec": {
      "name": "python3",
      "display_name": "Python 3"
    },
    "language_info": {
      "name": "python"
    },
    "widgets": {
      "application/vnd.jupyter.widget-state+json": {
        "ecdf16c05bc64f11a40fde3ed62a783e": {
          "model_module": "@jupyter-widgets/controls",
          "model_name": "HBoxModel",
          "model_module_version": "1.5.0",
          "state": {
            "_dom_classes": [],
            "_model_module": "@jupyter-widgets/controls",
            "_model_module_version": "1.5.0",
            "_model_name": "HBoxModel",
            "_view_count": null,
            "_view_module": "@jupyter-widgets/controls",
            "_view_module_version": "1.5.0",
            "_view_name": "HBoxView",
            "box_style": "",
            "children": [
              "IPY_MODEL_9720b71452a148ba9efb2cee8e5497aa",
              "IPY_MODEL_96ad4570ee1340c4bf499c3dcb1ee8ca",
              "IPY_MODEL_ac04433aadd144fcb61926a8c4a41f0e"
            ],
            "layout": "IPY_MODEL_5640c87d705a4b7e9dcba32efb2f8cb1"
          }
        },
        "9720b71452a148ba9efb2cee8e5497aa": {
          "model_module": "@jupyter-widgets/controls",
          "model_name": "HTMLModel",
          "model_module_version": "1.5.0",
          "state": {
            "_dom_classes": [],
            "_model_module": "@jupyter-widgets/controls",
            "_model_module_version": "1.5.0",
            "_model_name": "HTMLModel",
            "_view_count": null,
            "_view_module": "@jupyter-widgets/controls",
            "_view_module_version": "1.5.0",
            "_view_name": "HTMLView",
            "description": "",
            "description_tooltip": null,
            "layout": "IPY_MODEL_e6af076472ef441f9517c1b668fa16f4",
            "placeholder": "​",
            "style": "IPY_MODEL_f584451f92194646bcea74f7493f4f6e",
            "value": "Asking questions to the agent: 100%"
          }
        },
        "96ad4570ee1340c4bf499c3dcb1ee8ca": {
          "model_module": "@jupyter-widgets/controls",
          "model_name": "FloatProgressModel",
          "model_module_version": "1.5.0",
          "state": {
            "_dom_classes": [],
            "_model_module": "@jupyter-widgets/controls",
            "_model_module_version": "1.5.0",
            "_model_name": "FloatProgressModel",
            "_view_count": null,
            "_view_module": "@jupyter-widgets/controls",
            "_view_module_version": "1.5.0",
            "_view_name": "ProgressView",
            "bar_style": "success",
            "description": "",
            "description_tooltip": null,
            "layout": "IPY_MODEL_df6fc048025548dfa940dd8ecef11126",
            "max": 29,
            "min": 0,
            "orientation": "horizontal",
            "style": "IPY_MODEL_fa0f8032558e457990e1e0daff0a8e67",
            "value": 29
          }
        },
        "ac04433aadd144fcb61926a8c4a41f0e": {
          "model_module": "@jupyter-widgets/controls",
          "model_name": "HTMLModel",
          "model_module_version": "1.5.0",
          "state": {
            "_dom_classes": [],
            "_model_module": "@jupyter-widgets/controls",
            "_model_module_version": "1.5.0",
            "_model_name": "HTMLModel",
            "_view_count": null,
            "_view_module": "@jupyter-widgets/controls",
            "_view_module_version": "1.5.0",
            "_view_name": "HTMLView",
            "description": "",
            "description_tooltip": null,
            "layout": "IPY_MODEL_047fd89511474875a60c7dbcfd5b0ff8",
            "placeholder": "​",
            "style": "IPY_MODEL_ba959d5c775546ffac6bcc7b401d1935",
            "value": " 29/29 [01:24&lt;00:00,  2.48s/it]"
          }
        },
        "5640c87d705a4b7e9dcba32efb2f8cb1": {
          "model_module": "@jupyter-widgets/base",
          "model_name": "LayoutModel",
          "model_module_version": "1.2.0",
          "state": {
            "_model_module": "@jupyter-widgets/base",
            "_model_module_version": "1.2.0",
            "_model_name": "LayoutModel",
            "_view_count": null,
            "_view_module": "@jupyter-widgets/base",
            "_view_module_version": "1.2.0",
            "_view_name": "LayoutView",
            "align_content": null,
            "align_items": null,
            "align_self": null,
            "border": null,
            "bottom": null,
            "display": null,
            "flex": null,
            "flex_flow": null,
            "grid_area": null,
            "grid_auto_columns": null,
            "grid_auto_flow": null,
            "grid_auto_rows": null,
            "grid_column": null,
            "grid_gap": null,
            "grid_row": null,
            "grid_template_areas": null,
            "grid_template_columns": null,
            "grid_template_rows": null,
            "height": null,
            "justify_content": null,
            "justify_items": null,
            "left": null,
            "margin": null,
            "max_height": null,
            "max_width": null,
            "min_height": null,
            "min_width": null,
            "object_fit": null,
            "object_position": null,
            "order": null,
            "overflow": null,
            "overflow_x": null,
            "overflow_y": null,
            "padding": null,
            "right": null,
            "top": null,
            "visibility": null,
            "width": null
          }
        },
        "e6af076472ef441f9517c1b668fa16f4": {
          "model_module": "@jupyter-widgets/base",
          "model_name": "LayoutModel",
          "model_module_version": "1.2.0",
          "state": {
            "_model_module": "@jupyter-widgets/base",
            "_model_module_version": "1.2.0",
            "_model_name": "LayoutModel",
            "_view_count": null,
            "_view_module": "@jupyter-widgets/base",
            "_view_module_version": "1.2.0",
            "_view_name": "LayoutView",
            "align_content": null,
            "align_items": null,
            "align_self": null,
            "border": null,
            "bottom": null,
            "display": null,
            "flex": null,
            "flex_flow": null,
            "grid_area": null,
            "grid_auto_columns": null,
            "grid_auto_flow": null,
            "grid_auto_rows": null,
            "grid_column": null,
            "grid_gap": null,
            "grid_row": null,
            "grid_template_areas": null,
            "grid_template_columns": null,
            "grid_template_rows": null,
            "height": null,
            "justify_content": null,
            "justify_items": null,
            "left": null,
            "margin": null,
            "max_height": null,
            "max_width": null,
            "min_height": null,
            "min_width": null,
            "object_fit": null,
            "object_position": null,
            "order": null,
            "overflow": null,
            "overflow_x": null,
            "overflow_y": null,
            "padding": null,
            "right": null,
            "top": null,
            "visibility": null,
            "width": null
          }
        },
        "f584451f92194646bcea74f7493f4f6e": {
          "model_module": "@jupyter-widgets/controls",
          "model_name": "DescriptionStyleModel",
          "model_module_version": "1.5.0",
          "state": {
            "_model_module": "@jupyter-widgets/controls",
            "_model_module_version": "1.5.0",
            "_model_name": "DescriptionStyleModel",
            "_view_count": null,
            "_view_module": "@jupyter-widgets/base",
            "_view_module_version": "1.2.0",
            "_view_name": "StyleView",
            "description_width": ""
          }
        },
        "df6fc048025548dfa940dd8ecef11126": {
          "model_module": "@jupyter-widgets/base",
          "model_name": "LayoutModel",
          "model_module_version": "1.2.0",
          "state": {
            "_model_module": "@jupyter-widgets/base",
            "_model_module_version": "1.2.0",
            "_model_name": "LayoutModel",
            "_view_count": null,
            "_view_module": "@jupyter-widgets/base",
            "_view_module_version": "1.2.0",
            "_view_name": "LayoutView",
            "align_content": null,
            "align_items": null,
            "align_self": null,
            "border": null,
            "bottom": null,
            "display": null,
            "flex": null,
            "flex_flow": null,
            "grid_area": null,
            "grid_auto_columns": null,
            "grid_auto_flow": null,
            "grid_auto_rows": null,
            "grid_column": null,
            "grid_gap": null,
            "grid_row": null,
            "grid_template_areas": null,
            "grid_template_columns": null,
            "grid_template_rows": null,
            "height": null,
            "justify_content": null,
            "justify_items": null,
            "left": null,
            "margin": null,
            "max_height": null,
            "max_width": null,
            "min_height": null,
            "min_width": null,
            "object_fit": null,
            "object_position": null,
            "order": null,
            "overflow": null,
            "overflow_x": null,
            "overflow_y": null,
            "padding": null,
            "right": null,
            "top": null,
            "visibility": null,
            "width": null
          }
        },
        "fa0f8032558e457990e1e0daff0a8e67": {
          "model_module": "@jupyter-widgets/controls",
          "model_name": "ProgressStyleModel",
          "model_module_version": "1.5.0",
          "state": {
            "_model_module": "@jupyter-widgets/controls",
            "_model_module_version": "1.5.0",
            "_model_name": "ProgressStyleModel",
            "_view_count": null,
            "_view_module": "@jupyter-widgets/base",
            "_view_module_version": "1.2.0",
            "_view_name": "StyleView",
            "bar_color": null,
            "description_width": ""
          }
        },
        "047fd89511474875a60c7dbcfd5b0ff8": {
          "model_module": "@jupyter-widgets/base",
          "model_name": "LayoutModel",
          "model_module_version": "1.2.0",
          "state": {
            "_model_module": "@jupyter-widgets/base",
            "_model_module_version": "1.2.0",
            "_model_name": "LayoutModel",
            "_view_count": null,
            "_view_module": "@jupyter-widgets/base",
            "_view_module_version": "1.2.0",
            "_view_name": "LayoutView",
            "align_content": null,
            "align_items": null,
            "align_self": null,
            "border": null,
            "bottom": null,
            "display": null,
            "flex": null,
            "flex_flow": null,
            "grid_area": null,
            "grid_auto_columns": null,
            "grid_auto_flow": null,
            "grid_auto_rows": null,
            "grid_column": null,
            "grid_gap": null,
            "grid_row": null,
            "grid_template_areas": null,
            "grid_template_columns": null,
            "grid_template_rows": null,
            "height": null,
            "justify_content": null,
            "justify_items": null,
            "left": null,
            "margin": null,
            "max_height": null,
            "max_width": null,
            "min_height": null,
            "min_width": null,
            "object_fit": null,
            "object_position": null,
            "order": null,
            "overflow": null,
            "overflow_x": null,
            "overflow_y": null,
            "padding": null,
            "right": null,
            "top": null,
            "visibility": null,
            "width": null
          }
        },
        "ba959d5c775546ffac6bcc7b401d1935": {
          "model_module": "@jupyter-widgets/controls",
          "model_name": "DescriptionStyleModel",
          "model_module_version": "1.5.0",
          "state": {
            "_model_module": "@jupyter-widgets/controls",
            "_model_module_version": "1.5.0",
            "_model_name": "DescriptionStyleModel",
            "_view_count": null,
            "_view_module": "@jupyter-widgets/base",
            "_view_module_version": "1.2.0",
            "_view_name": "StyleView",
            "description_width": ""
          }
        },
        "4a1129c86b6d4c16b533d8f4100db384": {
          "model_module": "@jupyter-widgets/controls",
          "model_name": "HBoxModel",
          "model_module_version": "1.5.0",
          "state": {
            "_dom_classes": [],
            "_model_module": "@jupyter-widgets/controls",
            "_model_module_version": "1.5.0",
            "_model_name": "HBoxModel",
            "_view_count": null,
            "_view_module": "@jupyter-widgets/controls",
            "_view_module_version": "1.5.0",
            "_view_name": "HBoxView",
            "box_style": "",
            "children": [
              "IPY_MODEL_d9a687300fcf4d15ac1cd1ea51cf8ef4",
              "IPY_MODEL_3b6b73631a0d484e8f381e9380191deb",
              "IPY_MODEL_d8528bd7ac484572adced97b8a1a5aba"
            ],
            "layout": "IPY_MODEL_b88cf0ac02d34403911d608f67894893"
          }
        },
        "d9a687300fcf4d15ac1cd1ea51cf8ef4": {
          "model_module": "@jupyter-widgets/controls",
          "model_name": "HTMLModel",
          "model_module_version": "1.5.0",
          "state": {
            "_dom_classes": [],
            "_model_module": "@jupyter-widgets/controls",
            "_model_module_version": "1.5.0",
            "_model_name": "HTMLModel",
            "_view_count": null,
            "_view_module": "@jupyter-widgets/controls",
            "_view_module_version": "1.5.0",
            "_view_name": "HTMLView",
            "description": "",
            "description_tooltip": null,
            "layout": "IPY_MODEL_7231de8b835c4b1798cb1834c4397701",
            "placeholder": "​",
            "style": "IPY_MODEL_d96598978fd648d38ff528de77830920",
            "value": "Correctness evaluation: 100%"
          }
        },
        "3b6b73631a0d484e8f381e9380191deb": {
          "model_module": "@jupyter-widgets/controls",
          "model_name": "FloatProgressModel",
          "model_module_version": "1.5.0",
          "state": {
            "_dom_classes": [],
            "_model_module": "@jupyter-widgets/controls",
            "_model_module_version": "1.5.0",
            "_model_name": "FloatProgressModel",
            "_view_count": null,
            "_view_module": "@jupyter-widgets/controls",
            "_view_module_version": "1.5.0",
            "_view_name": "ProgressView",
            "bar_style": "success",
            "description": "",
            "description_tooltip": null,
            "layout": "IPY_MODEL_fae805cc45ae486cbce1e44aa3f34f4f",
            "max": 29,
            "min": 0,
            "orientation": "horizontal",
            "style": "IPY_MODEL_ad0e0d98b5734ed880748bcc4861eaa9",
            "value": 29
          }
        },
        "d8528bd7ac484572adced97b8a1a5aba": {
          "model_module": "@jupyter-widgets/controls",
          "model_name": "HTMLModel",
          "model_module_version": "1.5.0",
          "state": {
            "_dom_classes": [],
            "_model_module": "@jupyter-widgets/controls",
            "_model_module_version": "1.5.0",
            "_model_name": "HTMLModel",
            "_view_count": null,
            "_view_module": "@jupyter-widgets/controls",
            "_view_module_version": "1.5.0",
            "_view_name": "HTMLView",
            "description": "",
            "description_tooltip": null,
            "layout": "IPY_MODEL_ea8a7ae93df740b6800649c02232dfcd",
            "placeholder": "​",
            "style": "IPY_MODEL_8f86b25244f0484b9f4397d64b6708e5",
            "value": " 29/29 [00:57&lt;00:00,  1.90s/it]"
          }
        },
        "b88cf0ac02d34403911d608f67894893": {
          "model_module": "@jupyter-widgets/base",
          "model_name": "LayoutModel",
          "model_module_version": "1.2.0",
          "state": {
            "_model_module": "@jupyter-widgets/base",
            "_model_module_version": "1.2.0",
            "_model_name": "LayoutModel",
            "_view_count": null,
            "_view_module": "@jupyter-widgets/base",
            "_view_module_version": "1.2.0",
            "_view_name": "LayoutView",
            "align_content": null,
            "align_items": null,
            "align_self": null,
            "border": null,
            "bottom": null,
            "display": null,
            "flex": null,
            "flex_flow": null,
            "grid_area": null,
            "grid_auto_columns": null,
            "grid_auto_flow": null,
            "grid_auto_rows": null,
            "grid_column": null,
            "grid_gap": null,
            "grid_row": null,
            "grid_template_areas": null,
            "grid_template_columns": null,
            "grid_template_rows": null,
            "height": null,
            "justify_content": null,
            "justify_items": null,
            "left": null,
            "margin": null,
            "max_height": null,
            "max_width": null,
            "min_height": null,
            "min_width": null,
            "object_fit": null,
            "object_position": null,
            "order": null,
            "overflow": null,
            "overflow_x": null,
            "overflow_y": null,
            "padding": null,
            "right": null,
            "top": null,
            "visibility": null,
            "width": null
          }
        },
        "7231de8b835c4b1798cb1834c4397701": {
          "model_module": "@jupyter-widgets/base",
          "model_name": "LayoutModel",
          "model_module_version": "1.2.0",
          "state": {
            "_model_module": "@jupyter-widgets/base",
            "_model_module_version": "1.2.0",
            "_model_name": "LayoutModel",
            "_view_count": null,
            "_view_module": "@jupyter-widgets/base",
            "_view_module_version": "1.2.0",
            "_view_name": "LayoutView",
            "align_content": null,
            "align_items": null,
            "align_self": null,
            "border": null,
            "bottom": null,
            "display": null,
            "flex": null,
            "flex_flow": null,
            "grid_area": null,
            "grid_auto_columns": null,
            "grid_auto_flow": null,
            "grid_auto_rows": null,
            "grid_column": null,
            "grid_gap": null,
            "grid_row": null,
            "grid_template_areas": null,
            "grid_template_columns": null,
            "grid_template_rows": null,
            "height": null,
            "justify_content": null,
            "justify_items": null,
            "left": null,
            "margin": null,
            "max_height": null,
            "max_width": null,
            "min_height": null,
            "min_width": null,
            "object_fit": null,
            "object_position": null,
            "order": null,
            "overflow": null,
            "overflow_x": null,
            "overflow_y": null,
            "padding": null,
            "right": null,
            "top": null,
            "visibility": null,
            "width": null
          }
        },
        "d96598978fd648d38ff528de77830920": {
          "model_module": "@jupyter-widgets/controls",
          "model_name": "DescriptionStyleModel",
          "model_module_version": "1.5.0",
          "state": {
            "_model_module": "@jupyter-widgets/controls",
            "_model_module_version": "1.5.0",
            "_model_name": "DescriptionStyleModel",
            "_view_count": null,
            "_view_module": "@jupyter-widgets/base",
            "_view_module_version": "1.2.0",
            "_view_name": "StyleView",
            "description_width": ""
          }
        },
        "fae805cc45ae486cbce1e44aa3f34f4f": {
          "model_module": "@jupyter-widgets/base",
          "model_name": "LayoutModel",
          "model_module_version": "1.2.0",
          "state": {
            "_model_module": "@jupyter-widgets/base",
            "_model_module_version": "1.2.0",
            "_model_name": "LayoutModel",
            "_view_count": null,
            "_view_module": "@jupyter-widgets/base",
            "_view_module_version": "1.2.0",
            "_view_name": "LayoutView",
            "align_content": null,
            "align_items": null,
            "align_self": null,
            "border": null,
            "bottom": null,
            "display": null,
            "flex": null,
            "flex_flow": null,
            "grid_area": null,
            "grid_auto_columns": null,
            "grid_auto_flow": null,
            "grid_auto_rows": null,
            "grid_column": null,
            "grid_gap": null,
            "grid_row": null,
            "grid_template_areas": null,
            "grid_template_columns": null,
            "grid_template_rows": null,
            "height": null,
            "justify_content": null,
            "justify_items": null,
            "left": null,
            "margin": null,
            "max_height": null,
            "max_width": null,
            "min_height": null,
            "min_width": null,
            "object_fit": null,
            "object_position": null,
            "order": null,
            "overflow": null,
            "overflow_x": null,
            "overflow_y": null,
            "padding": null,
            "right": null,
            "top": null,
            "visibility": null,
            "width": null
          }
        },
        "ad0e0d98b5734ed880748bcc4861eaa9": {
          "model_module": "@jupyter-widgets/controls",
          "model_name": "ProgressStyleModel",
          "model_module_version": "1.5.0",
          "state": {
            "_model_module": "@jupyter-widgets/controls",
            "_model_module_version": "1.5.0",
            "_model_name": "ProgressStyleModel",
            "_view_count": null,
            "_view_module": "@jupyter-widgets/base",
            "_view_module_version": "1.2.0",
            "_view_name": "StyleView",
            "bar_color": null,
            "description_width": ""
          }
        },
        "ea8a7ae93df740b6800649c02232dfcd": {
          "model_module": "@jupyter-widgets/base",
          "model_name": "LayoutModel",
          "model_module_version": "1.2.0",
          "state": {
            "_model_module": "@jupyter-widgets/base",
            "_model_module_version": "1.2.0",
            "_model_name": "LayoutModel",
            "_view_count": null,
            "_view_module": "@jupyter-widgets/base",
            "_view_module_version": "1.2.0",
            "_view_name": "LayoutView",
            "align_content": null,
            "align_items": null,
            "align_self": null,
            "border": null,
            "bottom": null,
            "display": null,
            "flex": null,
            "flex_flow": null,
            "grid_area": null,
            "grid_auto_columns": null,
            "grid_auto_flow": null,
            "grid_auto_rows": null,
            "grid_column": null,
            "grid_gap": null,
            "grid_row": null,
            "grid_template_areas": null,
            "grid_template_columns": null,
            "grid_template_rows": null,
            "height": null,
            "justify_content": null,
            "justify_items": null,
            "left": null,
            "margin": null,
            "max_height": null,
            "max_width": null,
            "min_height": null,
            "min_width": null,
            "object_fit": null,
            "object_position": null,
            "order": null,
            "overflow": null,
            "overflow_x": null,
            "overflow_y": null,
            "padding": null,
            "right": null,
            "top": null,
            "visibility": null,
            "width": null
          }
        },
        "8f86b25244f0484b9f4397d64b6708e5": {
          "model_module": "@jupyter-widgets/controls",
          "model_name": "DescriptionStyleModel",
          "model_module_version": "1.5.0",
          "state": {
            "_model_module": "@jupyter-widgets/controls",
            "_model_module_version": "1.5.0",
            "_model_name": "DescriptionStyleModel",
            "_view_count": null,
            "_view_module": "@jupyter-widgets/base",
            "_view_module_version": "1.2.0",
            "_view_name": "StyleView",
            "description_width": ""
          }
        }
      }
    }
  },
  "cells": [
    {
      "cell_type": "markdown",
      "source": [
        "# Import Libraries"
      ],
      "metadata": {
        "id": "grP5bwvPaDpI"
      }
    },
    {
      "cell_type": "code",
      "execution_count": null,
      "metadata": {
        "id": "iDnZJilMkyVg"
      },
      "outputs": [],
      "source": [
        "import pandas as pd\n",
        "from transformers import AutoModelForCausalLM, AutoTokenizer\n",
        "import torch\n",
        "from langchain.llms import HuggingFacePipeline\n",
        "from langchain.chains import LLMChain\n",
        "from langchain.prompts import PromptTemplate\n",
        "import pandas as pd\n",
        "from langchain.llms import HuggingFacePipeline\n",
        "from langchain.document_loaders import DataFrameLoader\n",
        "from langchain.text_splitter import RecursiveCharacterTextSplitter\n",
        "from langchain.embeddings import HuggingFaceEmbeddings\n",
        "from langchain.chains import RetrievalQA\n",
        "from langchain.vectorstores import Chroma\n",
        "from langchain_core.messages import HumanMessage\n",
        "from langchain_mistralai.chat_models import ChatMistralAI\n",
        "from WQ.WikiQuery.src import constants\n",
        "from dotenv import load_dotenv\n",
        "from langchain_core.output_parsers import StrOutputParser\n",
        "from operator import itemgetter\n",
        "\n",
        "device = 'cuda' if torch.cuda.is_available() else 'cpu'"
      ]
    },
    {
      "cell_type": "code",
      "source": [
        "# Read Dataset\n",
        "crypto_wiki_articles = pd.read_csv('WQ/WikiQuery/data/Wikipedia Crypto Articles.csv')"
      ],
      "metadata": {
        "id": "fC_J18DflAk1"
      },
      "execution_count": null,
      "outputs": []
    },
    {
      "cell_type": "code",
      "source": [
        "# Load dataframe content into a document\n",
        "\n",
        "articles = DataFrameLoader(crypto_wiki_articles,\n",
        "                           page_content_column = \"article\")\n",
        "document = articles.load()\n",
        "\n",
        "# I use Langchain’s recursive character splitter for chunking\n",
        "\n",
        "text_splitter = RecursiveCharacterTextSplitter(\n",
        "    chunk_size=500,\n",
        "    chunk_overlap=20,\n",
        "    separators=['\\n\\n', '\\n', '.'],\n",
        "    length_function=len,\n",
        ")\n",
        "\n",
        "\n",
        "document_chunks = text_splitter.split_documents(document)"
      ],
      "metadata": {
        "id": "lLQhvog4lKm4"
      },
      "execution_count": null,
      "outputs": []
    },
    {
      "cell_type": "markdown",
      "source": [
        "# Create a Knowledge Base\n",
        "Let's start by loading the content in a pandas DataFrame."
      ],
      "metadata": {
        "id": "j1_2ZG-vY5iL"
      }
    },
    {
      "cell_type": "code",
      "source": [
        "df = pd.DataFrame([d.page_content for d in document], columns=[\"text\"])\n",
        "df.head(10)"
      ],
      "metadata": {
        "colab": {
          "base_uri": "https://localhost:8080/",
          "height": 359
        },
        "id": "uvYN3ZUElKy_",
        "outputId": "fd24ee3b-328e-45af-f429-d599f56f2a41"
      },
      "execution_count": null,
      "outputs": [
        {
          "output_type": "execute_result",
          "data": {
            "text/plain": [
              "                                                text\n",
              "0  A cryptocurrency, crypto-currency, or crypto i...\n",
              "1  Bitcoin (abbreviation: BTC or XBT; sign: ₿) is...\n",
              "2  Digital currency (digital money, electronic mo...\n",
              "3  A central bank digital currency (CBDC; also ca...\n",
              "4  Litecoin (Abbreviation: LTC; sign: Ł) is a dec...\n",
              "5  Satoshi Nakamoto  is the name used by the pres...\n",
              "6  A blockchain is a distributed ledger with grow...\n",
              "7  Ethereum is a decentralized blockchain with sm...\n",
              "8  Charlie Lee is a computer scientist, best know...\n",
              "9  Namecoin (Abbreviation: NMC; sign: \\n  \\n    \\..."
            ],
            "text/html": [
              "\n",
              "  <div id=\"df-07d6b3fb-04d5-4b23-b7ec-a433450e6078\" class=\"colab-df-container\">\n",
              "    <div>\n",
              "<style scoped>\n",
              "    .dataframe tbody tr th:only-of-type {\n",
              "        vertical-align: middle;\n",
              "    }\n",
              "\n",
              "    .dataframe tbody tr th {\n",
              "        vertical-align: top;\n",
              "    }\n",
              "\n",
              "    .dataframe thead th {\n",
              "        text-align: right;\n",
              "    }\n",
              "</style>\n",
              "<table border=\"1\" class=\"dataframe\">\n",
              "  <thead>\n",
              "    <tr style=\"text-align: right;\">\n",
              "      <th></th>\n",
              "      <th>text</th>\n",
              "    </tr>\n",
              "  </thead>\n",
              "  <tbody>\n",
              "    <tr>\n",
              "      <th>0</th>\n",
              "      <td>A cryptocurrency, crypto-currency, or crypto i...</td>\n",
              "    </tr>\n",
              "    <tr>\n",
              "      <th>1</th>\n",
              "      <td>Bitcoin (abbreviation: BTC or XBT; sign: ₿) is...</td>\n",
              "    </tr>\n",
              "    <tr>\n",
              "      <th>2</th>\n",
              "      <td>Digital currency (digital money, electronic mo...</td>\n",
              "    </tr>\n",
              "    <tr>\n",
              "      <th>3</th>\n",
              "      <td>A central bank digital currency (CBDC; also ca...</td>\n",
              "    </tr>\n",
              "    <tr>\n",
              "      <th>4</th>\n",
              "      <td>Litecoin (Abbreviation: LTC; sign: Ł) is a dec...</td>\n",
              "    </tr>\n",
              "    <tr>\n",
              "      <th>5</th>\n",
              "      <td>Satoshi Nakamoto  is the name used by the pres...</td>\n",
              "    </tr>\n",
              "    <tr>\n",
              "      <th>6</th>\n",
              "      <td>A blockchain is a distributed ledger with grow...</td>\n",
              "    </tr>\n",
              "    <tr>\n",
              "      <th>7</th>\n",
              "      <td>Ethereum is a decentralized blockchain with sm...</td>\n",
              "    </tr>\n",
              "    <tr>\n",
              "      <th>8</th>\n",
              "      <td>Charlie Lee is a computer scientist, best know...</td>\n",
              "    </tr>\n",
              "    <tr>\n",
              "      <th>9</th>\n",
              "      <td>Namecoin (Abbreviation: NMC; sign: \\n  \\n    \\...</td>\n",
              "    </tr>\n",
              "  </tbody>\n",
              "</table>\n",
              "</div>\n",
              "    <div class=\"colab-df-buttons\">\n",
              "\n",
              "  <div class=\"colab-df-container\">\n",
              "    <button class=\"colab-df-convert\" onclick=\"convertToInteractive('df-07d6b3fb-04d5-4b23-b7ec-a433450e6078')\"\n",
              "            title=\"Convert this dataframe to an interactive table.\"\n",
              "            style=\"display:none;\">\n",
              "\n",
              "  <svg xmlns=\"http://www.w3.org/2000/svg\" height=\"24px\" viewBox=\"0 -960 960 960\">\n",
              "    <path d=\"M120-120v-720h720v720H120Zm60-500h600v-160H180v160Zm220 220h160v-160H400v160Zm0 220h160v-160H400v160ZM180-400h160v-160H180v160Zm440 0h160v-160H620v160ZM180-180h160v-160H180v160Zm440 0h160v-160H620v160Z\"/>\n",
              "  </svg>\n",
              "    </button>\n",
              "\n",
              "  <style>\n",
              "    .colab-df-container {\n",
              "      display:flex;\n",
              "      gap: 12px;\n",
              "    }\n",
              "\n",
              "    .colab-df-convert {\n",
              "      background-color: #E8F0FE;\n",
              "      border: none;\n",
              "      border-radius: 50%;\n",
              "      cursor: pointer;\n",
              "      display: none;\n",
              "      fill: #1967D2;\n",
              "      height: 32px;\n",
              "      padding: 0 0 0 0;\n",
              "      width: 32px;\n",
              "    }\n",
              "\n",
              "    .colab-df-convert:hover {\n",
              "      background-color: #E2EBFA;\n",
              "      box-shadow: 0px 1px 2px rgba(60, 64, 67, 0.3), 0px 1px 3px 1px rgba(60, 64, 67, 0.15);\n",
              "      fill: #174EA6;\n",
              "    }\n",
              "\n",
              "    .colab-df-buttons div {\n",
              "      margin-bottom: 4px;\n",
              "    }\n",
              "\n",
              "    [theme=dark] .colab-df-convert {\n",
              "      background-color: #3B4455;\n",
              "      fill: #D2E3FC;\n",
              "    }\n",
              "\n",
              "    [theme=dark] .colab-df-convert:hover {\n",
              "      background-color: #434B5C;\n",
              "      box-shadow: 0px 1px 3px 1px rgba(0, 0, 0, 0.15);\n",
              "      filter: drop-shadow(0px 1px 2px rgba(0, 0, 0, 0.3));\n",
              "      fill: #FFFFFF;\n",
              "    }\n",
              "  </style>\n",
              "\n",
              "    <script>\n",
              "      const buttonEl =\n",
              "        document.querySelector('#df-07d6b3fb-04d5-4b23-b7ec-a433450e6078 button.colab-df-convert');\n",
              "      buttonEl.style.display =\n",
              "        google.colab.kernel.accessAllowed ? 'block' : 'none';\n",
              "\n",
              "      async function convertToInteractive(key) {\n",
              "        const element = document.querySelector('#df-07d6b3fb-04d5-4b23-b7ec-a433450e6078');\n",
              "        const dataTable =\n",
              "          await google.colab.kernel.invokeFunction('convertToInteractive',\n",
              "                                                    [key], {});\n",
              "        if (!dataTable) return;\n",
              "\n",
              "        const docLinkHtml = 'Like what you see? Visit the ' +\n",
              "          '<a target=\"_blank\" href=https://colab.research.google.com/notebooks/data_table.ipynb>data table notebook</a>'\n",
              "          + ' to learn more about interactive tables.';\n",
              "        element.innerHTML = '';\n",
              "        dataTable['output_type'] = 'display_data';\n",
              "        await google.colab.output.renderOutput(dataTable, element);\n",
              "        const docLink = document.createElement('div');\n",
              "        docLink.innerHTML = docLinkHtml;\n",
              "        element.appendChild(docLink);\n",
              "      }\n",
              "    </script>\n",
              "  </div>\n",
              "\n",
              "\n",
              "<div id=\"df-60557d0f-924a-4ede-894c-307e17e551d3\">\n",
              "  <button class=\"colab-df-quickchart\" onclick=\"quickchart('df-60557d0f-924a-4ede-894c-307e17e551d3')\"\n",
              "            title=\"Suggest charts\"\n",
              "            style=\"display:none;\">\n",
              "\n",
              "<svg xmlns=\"http://www.w3.org/2000/svg\" height=\"24px\"viewBox=\"0 0 24 24\"\n",
              "     width=\"24px\">\n",
              "    <g>\n",
              "        <path d=\"M19 3H5c-1.1 0-2 .9-2 2v14c0 1.1.9 2 2 2h14c1.1 0 2-.9 2-2V5c0-1.1-.9-2-2-2zM9 17H7v-7h2v7zm4 0h-2V7h2v10zm4 0h-2v-4h2v4z\"/>\n",
              "    </g>\n",
              "</svg>\n",
              "  </button>\n",
              "\n",
              "<style>\n",
              "  .colab-df-quickchart {\n",
              "      --bg-color: #E8F0FE;\n",
              "      --fill-color: #1967D2;\n",
              "      --hover-bg-color: #E2EBFA;\n",
              "      --hover-fill-color: #174EA6;\n",
              "      --disabled-fill-color: #AAA;\n",
              "      --disabled-bg-color: #DDD;\n",
              "  }\n",
              "\n",
              "  [theme=dark] .colab-df-quickchart {\n",
              "      --bg-color: #3B4455;\n",
              "      --fill-color: #D2E3FC;\n",
              "      --hover-bg-color: #434B5C;\n",
              "      --hover-fill-color: #FFFFFF;\n",
              "      --disabled-bg-color: #3B4455;\n",
              "      --disabled-fill-color: #666;\n",
              "  }\n",
              "\n",
              "  .colab-df-quickchart {\n",
              "    background-color: var(--bg-color);\n",
              "    border: none;\n",
              "    border-radius: 50%;\n",
              "    cursor: pointer;\n",
              "    display: none;\n",
              "    fill: var(--fill-color);\n",
              "    height: 32px;\n",
              "    padding: 0;\n",
              "    width: 32px;\n",
              "  }\n",
              "\n",
              "  .colab-df-quickchart:hover {\n",
              "    background-color: var(--hover-bg-color);\n",
              "    box-shadow: 0 1px 2px rgba(60, 64, 67, 0.3), 0 1px 3px 1px rgba(60, 64, 67, 0.15);\n",
              "    fill: var(--button-hover-fill-color);\n",
              "  }\n",
              "\n",
              "  .colab-df-quickchart-complete:disabled,\n",
              "  .colab-df-quickchart-complete:disabled:hover {\n",
              "    background-color: var(--disabled-bg-color);\n",
              "    fill: var(--disabled-fill-color);\n",
              "    box-shadow: none;\n",
              "  }\n",
              "\n",
              "  .colab-df-spinner {\n",
              "    border: 2px solid var(--fill-color);\n",
              "    border-color: transparent;\n",
              "    border-bottom-color: var(--fill-color);\n",
              "    animation:\n",
              "      spin 1s steps(1) infinite;\n",
              "  }\n",
              "\n",
              "  @keyframes spin {\n",
              "    0% {\n",
              "      border-color: transparent;\n",
              "      border-bottom-color: var(--fill-color);\n",
              "      border-left-color: var(--fill-color);\n",
              "    }\n",
              "    20% {\n",
              "      border-color: transparent;\n",
              "      border-left-color: var(--fill-color);\n",
              "      border-top-color: var(--fill-color);\n",
              "    }\n",
              "    30% {\n",
              "      border-color: transparent;\n",
              "      border-left-color: var(--fill-color);\n",
              "      border-top-color: var(--fill-color);\n",
              "      border-right-color: var(--fill-color);\n",
              "    }\n",
              "    40% {\n",
              "      border-color: transparent;\n",
              "      border-right-color: var(--fill-color);\n",
              "      border-top-color: var(--fill-color);\n",
              "    }\n",
              "    60% {\n",
              "      border-color: transparent;\n",
              "      border-right-color: var(--fill-color);\n",
              "    }\n",
              "    80% {\n",
              "      border-color: transparent;\n",
              "      border-right-color: var(--fill-color);\n",
              "      border-bottom-color: var(--fill-color);\n",
              "    }\n",
              "    90% {\n",
              "      border-color: transparent;\n",
              "      border-bottom-color: var(--fill-color);\n",
              "    }\n",
              "  }\n",
              "</style>\n",
              "\n",
              "  <script>\n",
              "    async function quickchart(key) {\n",
              "      const quickchartButtonEl =\n",
              "        document.querySelector('#' + key + ' button');\n",
              "      quickchartButtonEl.disabled = true;  // To prevent multiple clicks.\n",
              "      quickchartButtonEl.classList.add('colab-df-spinner');\n",
              "      try {\n",
              "        const charts = await google.colab.kernel.invokeFunction(\n",
              "            'suggestCharts', [key], {});\n",
              "      } catch (error) {\n",
              "        console.error('Error during call to suggestCharts:', error);\n",
              "      }\n",
              "      quickchartButtonEl.classList.remove('colab-df-spinner');\n",
              "      quickchartButtonEl.classList.add('colab-df-quickchart-complete');\n",
              "    }\n",
              "    (() => {\n",
              "      let quickchartButtonEl =\n",
              "        document.querySelector('#df-60557d0f-924a-4ede-894c-307e17e551d3 button');\n",
              "      quickchartButtonEl.style.display =\n",
              "        google.colab.kernel.accessAllowed ? 'block' : 'none';\n",
              "    })();\n",
              "  </script>\n",
              "</div>\n",
              "\n",
              "    </div>\n",
              "  </div>\n"
            ],
            "application/vnd.google.colaboratory.intrinsic+json": {
              "type": "dataframe",
              "variable_name": "df",
              "summary": "{\n  \"name\": \"df\",\n  \"rows\": 218,\n  \"fields\": [\n    {\n      \"column\": \"text\",\n      \"properties\": {\n        \"dtype\": \"string\",\n        \"num_unique_values\": 218,\n        \"samples\": [\n          \"The Bitcoin Law (Spanish: Ley Bitcoin, pronounced [\\u02c8lej bi\\u00f0\\u02c8kojn]) was passed by the Legislative Assembly of El Salvador on 8 June 2021, giving the cryptocurrency bitcoin the status of legal tender within El Salvador after 7 September 2021. It was proposed by President Nayib Bukele. The text of the law states that \\\"the purpose of this law is to regulate bitcoin as unrestricted legal tender with liberating power, unlimited in any transaction, and to any title that public or private natural or legal persons require carrying out\\\".\\n\\n\\n== History ==\\nBitcoin use as a currency in El Salvador had been experimented with since at least 2019, and current President Bukele expressed interest in bitcoin while he was mayor of San Salvador in 2017.  Bloomberg News reported in June 2021 that Bukele and some members of the Nuevas Ideas party had owned Bitcoin for years.The coastal village of El Zonte has had an active experiment underway to use bitcoin in the local economy since 2019, where some workers have received their salary and can pay bills in bitcoin, and others use it to buy food and other goods from local shops.At a conference for bitcoin in Miami in June 2021, President Bukele announced that he would be looking to promulgate a law allowing bitcoin as legal tender, saying that it would \\\"generate jobs and help provide financial inclusion to thousands outside the formal economy\\\". According to Bukele, the law is aimed at the approximately 70% of Salvadorans without bank accounts, and will increase inclusion for them. Bukele argued that the bill would increase investment as well as reducing fees from current services for remittances. In pushing the bill, Bukele cooperated with Strike, a financial service firm which uses the Lightning Network for settlement, and Jack Mallers, its CEO.The law was passed by the Legislative Assembly  on 9 June 2021, with a majority vote of 62 out of 84. Bitcoin became legal tender on 7 September 2021, 90 days after the publication of the law in the official gazette, which makes El Salvador the first country to have bitcoin as legal tender.  Bitcoin joined the United States dollar as the second official currency of El Salvador.\\n\\n\\n== Reception ==\\nThe law was commented on as something of good \\\"PR value\\\" for Bukele, as a \\\"young president trying to capitalise on a popular image\\\". It was also criticized due to the volatility of bitcoin when used as an investment, and the high transaction fees when used as a method of payment.Siobhan Morden of Amherst Pierpont commented that the law could bring complications to Bukele's talks with the International Monetary Fund. She noted that the law would \\\"likely only compound concerns about corruption, money laundering and the independence of regulatory agencies.\\\" Carlos de Sousa of Vontobel Asset Management expressed concerns that the decentralized system would lead to easier money laundering and tax avoidance. According to Ernst & Young, the adoption of bitcoin as legal tender by El Salvador could have consequences for US taxpayers holding the cryptocurrency, because \\\"If more countries adopt bitcoin as legal tender, the US federal income tax treatment of bitcoin could change. Instead of being treated as an investment that is a capital asset, bitcoin could be treated as generating ordinary income under Section 988.\\\"In an August 2021 poll conducted by Salvadoran newspaper La Prensa Gr\\u00e1fica, a majority of people polled said they opposed the Bitcoin Law, and almost three quarters of respondents said they would not accept bitcoin as payment.According to a December 2021 survey done by the Central American University 100 days after the Bitcoin Law came into force: 34.8% of the population has no confidence in Bitcoin, 35.3% has little confidence, 13.2% has some confidence, and 14.1% has a lot of confidence. 56.6% of respondents have downloaded the government Bitcoin wallet; among them 62.9% has never used it or only once whereas 36.3% uses Bitcoin at least once a month. 48.5% of respondents think the Bitcoin Law should be abolished.\\n\\n\\n== Implementation ==\\nThe new law took effect on 7 September 2021. In the early hours after the law took effect and the official launch of new technologies to deal with a major change to the national currency infrastructure, the government had to take its bitcoin e-wallet, Chivo, offline due to excessive load. The Bukele government increased server capacity and brought the e-wallet back online by mid-day. 7 September 2021 also saw a crash in bitcoin to its lowest in almost a month, causing the country to experience a 3 million USD paper loss. The Salvadoran government tried to rectify this by buying bitcoin, allowing the price to rise above 52,000 USD. Due to concerns about bitcoin's volatility, as a result, over 1,000 protestors gathered outside the Supreme Court of El Salvador to protest the law. Chivo was initially rejected by many platforms early on the first day, but became increasingly accepted by them.A month after adoption of the Bitcoin Law, more El Salvadorans have Bitcoin wallets than traditional bank accounts. The most popular bitcoin wallet\\u2014the government's officially-sponsored Chivo wallet\\u2014had been downloaded by three million people, \\\"amounting to 46 percent of the population. By contrast, as of 2017, only 29 percent of Salvadorans had bank accounts.\\\" The use of the Chivo wallet has been incentivized by the government with US$30 seed money deposited into every Salvadoran's account. Other Lightning-enabled bitcoin wallets may be used by Salvadorans in lieu of Chivo.  In addition, many of the largest gas stations in the country are offering a 20 cents per gallon discount on gasoline for those who pay through the Chivo app. One month on, 12 percent of Salvadoran consumers have used the cryptocurrency, but 93 percent of companies surveyed reported receiving no payments in bitcoin during the first month.\\n\\n\\n== See also ==\\nLegality of cryptocurrencies by country or territory\\nPetro, state-issued cryptocurrency of Venezuela\\n\\n\\n== References ==\\n\\n\\n== External links ==\\nPress release, on the official website of the Legislative Assembly of El Salvador\\nOpinion of the Financial Committee of the Legislative Assembly of El Salvador\\nFull text of the law in English\",\n          \"Diem (formerly known as Libra) was a permissioned blockchain-based stablecoin payment system proposed by the American social media company Meta Platforms. The plan also included a private currency implemented as a cryptocurrency.\\nThe launch was originally planned to be in 2020, but only rudimentary experimental code was released.The project, currency and transactions would have been managed and cryptographically entrusted to the Diem Association, a membership organization of companies from payment, technology, telecommunication, online marketplace and venture capital, and nonprofits.\\nBefore December 2020, the project was called \\\"Libra\\\", although this was changed to Diem following legal challenges regarding its name and logo.The project generated backlash from government regulators in the European Union, the USA, other countries, and among the general public over monetary sovereignty, financial stability, privacy, and antitrust concerns which ultimately helped kill the project.The Diem Association (originally the Libra Association) shut down in January 2022 and sold the project to Silvergate Bank. Silvergate wrote off their Diem investment in January 2023.\\n\\n\\n== History ==\\nMorgan Beller started working on cryptocurrency and blockchain at Meta in 2017, and was initially the only person working on Meta's blockchain initiative.Meta vice president David A. Marcus moved from Facebook Messenger to a new blockchain division in May 2018. First reports of Facebook planning a cryptocurrency, with Marcus in charge, emerged a few days later. By February 2019, there were more than 50 engineers working on the project. Confirmation that Facebook intended a cryptocurrency first emerged in May 2019. At this time it was known as \\\"GlobalCoin\\\" or \\\"Facebook Coin\\\".The project was formally announced on June 18, 2019, under the name Libra. The creators of the coin are listed as Morgan Beller, David Marcus and Kevin Weil (Novi's VP of Product). The first release was planned for 2020.On July 15, 2019, Facebook announced the currency would not launch until all regulatory concerns have been met and Libra had the \\\"appropriate approvals\\\". On September 18, 2019, during a meeting with top Senate Democratic leaders, Mark Zuckerberg said that Libra would not be launched anywhere in the world without first obtaining approval from United States regulators. In October 2019 multiple companies left Libra Association: PayPal left on 4 October, eBay, Mastercard, Stripe, Visa and Mercado Pago followed on 11 October, and Booking Holdings on 14 October.According to a November 2020 report in the Financial Times, Libra will be launching a slimmed down plan that includes the cryptocurrency being a stablecoin backed by the US dollar rather than a multiple currency collection. The newspaper also reported that the cryptocurrency will now be called Diem, which is Latin for \\\"day\\\". In December 2020, Libra was rebranded as Diem, and Libra Association renamed Diem Association. As of December 2020, Diem Association had 27 members.In January 2022, it was reported that the Diem Association was winding down, with Diem's assets being sold to the California based Silvergate Capital for a reported $200 million. Facebook was also reported to have planned to launch the token in the U.S. with it being issued by Silvergate although the Federal Reserve and the United States Department of the Treasury were not supportive of the project.In January 2023, Silvergate announced in their earnings call for Q4 2022 that they were writing down their entire investment in Diem. Silvergate Bank was shut down in March 2023.\\n\\n\\n== Currency ==\\nThe plan for the Libra token was to be backed by financial assets such as a basket of currencies, and US Treasury securities in an attempt to avoid volatility. Facebook announced that each of the partners would inject an initial US$10 million, so Libra had full asset backing on the day it opened. As of January 2020, Libra is said to have dropped the idea of a mixed currency basket in favor of individual stablecoins pegged to individual currencies.Libra service partners, within the Libra Association, will create new Libra currency units based on demand. Libra currency units will be retired as they are redeemed for conventional currency.\\nInitial reconciliation of transactions will be performed at each service partner, and the blockchain's distributed ledger will be used for reconciliation between service partners. The intent is to help prevent everyone but members of the Libra Association from trying to extract and analyze data from the distributed ledger.\\nIn contrast to cryptocurrencies such as bitcoin which use permissionless blockchains, Libra is not decentralized, relying on trust in the Libra Association as \\\"a de facto central bank\\\".In September 2019, Facebook announced that the reserve basket would be made up of: 50% United States dollar, 18% Euro, 14% Japanese yen, 11% Pound sterling and 7% Singapore dollar.Libra considered using coins based on individual national currencies on the network, alongside the basket-based Libra token. This was first mooted publicly by David Marcus in October 2019, and by Mark Zuckerberg in his October 2019 Senate testimony. The idea was promoted again in March 2020.On April 16, 2020, Libra announced plans to create an infrastructure for multiple cryptocurrencies, the preponderance of which will be backed by individual fiat currencies, and said the association was in talks with regulators from Switzerland for a payments license.In May 2021, Diem announced that it had withdrawn its application to the Swiss Financial Market Supervisory Authority and said that it would instead seek approval with the US treasury to register as a money services business.\\n\\n\\n== Diem Association ==\\nFacebook established the Libra Association (later renamed to Diem Association) to oversee the currency, founded in Geneva, Switzerland. As of December 2020, Diem Association includes:\\n\\nPayments: PayU Checkout.com\\nTechnology and marketplaces: Facebook's subsidiary Novi Financial, Farfetch, Spotify, Shopify\\nTaxis: Lyft, Uber\\nTelecommunications: Iliad SA\\nBlockchain: Anchorage, Bison Trails, Coinbase, Xapo\\nVenture capital: Andreessen Horowitz, Breakthrough Initiatives, Ribbit Capital, Thrive Capital, Union Square Ventures, Slow Ventures, Temasek Holdings\\nNonprofit and multilateral organizations, and academic institutions: Creative Destruction Lab, Kiva, Mercy Corps, Women's World Banking, Heifer InternationalSeven other companies had been named as Libra Association members in the initial June 2019 announcement, but left before the first Libra meeting on 14 October 2019: Booking Holdings, eBay, Mastercard, Mercado Pago, PayPal, Stripe and Visa Inc. Visa chairman and CEO Alfred F. Kelly clarified in July that Visa had not joined, but had signed a nonbinding letter of intent; and that \\\"no one has yet officially joined.\\\" He said that factors determining whether Visa would, in fact, join included \\\"the ability of the association to satisfy all the requisite regulatory requirements.\\\" Vodafone joined the association in October 2019, but left in January 2020, saying they preferred to work on their mobile banking subsidiary M-Pesa.Press coverage around the initial Libra announcement noted the absence of Apple Pay, Google Pay, Amazon and of any banks. Banking executives had been reluctant to join due to uncertainties surrounding regulation and feasibility of the scheme.In late February 2020, e-commerce site Shopify and cryptocurrency brokerage Tagomi joined.\\nThe association hopes to grow to 100 members with an equal vote.In late April 2020, the payment processing company, Checkout.com, announced they would be joining the association. In May 2020, Singapore state investor Temasek Holdings, cryptocurrency investor Paradigm and private equity firm Slow Ventures announced they would join the association.Libra Association was renamed to Diem Association on December 1, 2020, as part of the rebranding from Libra to Diem.\\n\\n\\n== Reception ==\\nThe project faced criticism and opposition from central banks. The use of a cryptocurrency and blockchain for the implementation was questioned.\\n\\n\\n=== European Union regulatory response ===\\nThe first regulator response to Libra came within minutes of the launch announcement, from French Finance Minister, Bruno Le Maire, who was being interviewed on French radio station Europe 1. He said that Libra could not be allowed to become a sovereign currency, and would require strong consumer protections.Le Maire then warned the French Parliament of his concerns about Libra and privacy, money laundering and terrorism finance. He called on the central bank governors of the Group of Seven to prepare a report on Facebook's plans.Bank of England governor Mark Carney said there was a need to keep an \\\"open mind\\\" about new technology for money transfers, but \\\"anything that works in this world will become instantly systemic and will have to be subject to the highest standards of regulation.\\\"German MEP Markus Ferber warned that Facebook could become a shadow bank. His colleague MEP Stefan Berger sees Libra's power potential as a threat to the economic stability of the euro zone and its democracies: Libra could make Facebook its central bank. Berger argues in favor of the development of a European stablecoin in order to be able to offer a secure alternative to the Facebook currency. Berger will be in charge of the European report of Markets in Crypto-Assets (MiCA) which will serve as base for a regulatory framework for crypto-assets.On September 13, 2019, Le Maire stated that France would not allow development of Libra in the European Union, as would be a threat to the monetary sovereignty of states. He also spoke about the potential for abuse of marketing dominance and systemic financial risks as reasons for not allowing stablecoins to operate yet within the EU.According to a Reuters report, German Finance Minister Olaf Scholz said following a video conference of G7 finance ministers that Germany and Europe cannot accept Diem currency entry into the market while the regulatory risks are not adequately addressed. Scholz stated that he does not support private-sector digital currencies, and his remarks could be detrimental to Diem and JPMorgan Coin.\\nValdis Dombrovskis, Executive Vice-President of the European Commission for An Economy that Works for People, stated at the Digital Finance Outreach 2020 Closing Conference that the European Union is preparing a new cryptocurrency regime that may include stricter requirements for \\\"global stablecoin\\\" projects like Libra. In addition, Dombrovskis stated in his address that stablecoins that function on a global scale can \\\"present new concerns\\\" \\u2014 they can disturb financial and monetary stability.\\n\\n\\n=== United States regulatory response ===\\nUS regulators and politicians expressed concerns within hours of the mid-2019 announcement. Maxine Waters, Chairperson of the United States House Committee on Financial Services Committee asked Facebook to halt the development and launch of Libra, citing a list of recent scandals and that \\\"the cryptocurrency market currently lacks a clear regulatory framework\\\". The U.S. House Committee on Financial Services Democrats sent a letter to Facebook asking the company to stop development of Libra, citing concerns of privacy, national security, trading, and monetary policy.Jerome Powell, chairman of the Federal Reserve, testified before Congress on 10 July 2019 that the Fed had \\\"serious concerns\\\" as to how Libra would deal with \\\"money laundering, consumer protection and financial stability.\\\"President Donald Trump tweeted on 12 July 2019 that \\\"If Facebook and other companies want to become a bank, they must seek a new Banking Charter and become subject to all Banking Regulations.\\\"US regulators contacted Visa, PayPal, Mastercard and Stripe, asking for a complete overview of how Libra would fit into their anti-money-laundering compliance programs.Since several participants left the project in late 2019, the Libra Association worked to address concerns from United States regulators with the development of a \\\"Libra 2.0\\\" blueprint.According to CNBC, in 2021, Diem reportedly withdrawn its application for a Swiss payment license, intending to instead move its activities to the United States. Diem announced that it would relocate its operating headquarters from Geneva to Washington with an intend to establish its payment system from the United States.\\n\\n\\n=== Other countries ===\\nDavid Marcus told the US Senate that the Swiss Federal Data Protection and Information Commissioner would oversee privacy for Libra, but the commissioner said that it had not heard from Facebook at all.The government of Japan began the process of investigating Libra and doing an analysis on the effect on Japan's monetary policy and financial regulation.  In July 2019, Japanese officials formed a working committee, consisting of the Bank of Japan, the Ministry of Finance and the Financial Services Agency, to coordinate policies to address Libra's impact on regulation, monetary policy, tax, and payments settlement. The working group will coordinate measures to handle Libra's influence on regulation, monetary policy, tax, and payments settlement. This will be done before the Group of Seven meeting in France between 24 and 26 August 2019.Data protection regulators internationally issued a statement asking Facebook to protect personal data of users, and to detail Libra's planned practices for handling personal data, in the light of \\\"previous episodes where Facebook's handling of people's information has not met the expectations of regulators, or their own users.\\\"Finance Watch describes Libra as a \\\"huge risk to public monetary sovereignty\\\" and \\\"concludes that Libra is a bad idea \\u2013 for its users, for the stability of our financial system, and last but not least for our democracy.\\\"On September 16, 2019, officials from the Libra consortium, including J.P. Morgan and Facebook, met with officials from 26 central banks, including the Federal Reserve and Bank of England, in Basel, Switzerland and the meeting was chaired by European Central Bank board member Beno\\u00eet C\\u0153ur\\u00e9, a vocal Libra critic.\\n\\n\\n=== Privacy concerns ===\\nIndustry observers have speculated whether Libra will provide meaningful privacy to its users. Facebook's plan is to let its subsidiary Novi Financial manage Libra for Facebook users, and Facebook executives have stated that Novi will not share account holder's purchase information with Facebook without authorization. However, the system is also planned to include a friend-finder search function, and the use of this function will constitute permission for Novi to combine the account holder's transaction history with their Facebook account.In August 2019, according to CNBC, top data protection officials including Democratic FTC commissioner Rohit Chopra, U.K. Information Commissioner Elizabeth Denham, EU Data Protection Supervisor Giovanni Buttarelli, and other top regulators from Australia, Canada, Albania, and Burkina Faso in a joint statement expressed doubts over Facebook's proposed digital currency project Libra (Diem). According to CNBC, Facebook confirmed that governments and regulators throughout the world were scrutinizing Libra.In general, consumer advocates and public interest groups have opposed Diem on privacy grounds and rejected the tethering of financial services to mass surveillance.\\n\\n\\n=== Antitrust concerns ===\\nScholars have highlighted several antitrust risks associated with Diem, namely, a risk of collusion between association members, a risk of tying between Diem and Novi, and a risk of exclusivity agreements if Novi is required to use Diem within Facebook environment.\\n\\n\\n=== Fake Libra websites ===\\nFacebook tries to police inaccurate information and fake Libra websites on its platform. According to The Washington Post, nearly a dozen fake accounts, pages, and groups on Facebook and Instagram advertised themselves as legitimate centres for the Libra digital currency, in some cases trying to sell discounted Libra which was not yet accessible. Numerous of the counterfeits used the Facebook logo, images of Facebook CEO Mark Zuckerberg, and Libra's official marketing material. The growth of fake pages and groups devoted to Libra added to Facebook's difficulties with global authorities.\\n\\n\\n== Legal issues ==\\nDiem Association (formerly Libra Association) faced legal challenges as both the name and the logo of the digital currency are already in use within different territories.\\nFinco Services Inc filed a lawsuit with New York Southern District Court against Facebook, Inc., Novi Financial, Inc., Jlv, LLC and Character SF, LLC for an alleged trademark infringement arising out of the use by the latter of a logo similar to the start-up bank operated by Finco Services, Inc. The plaintiff requested a preliminary and permanent injunctive relief as well as monetary relief from the defendants. A settlement conference in this matter is scheduled for March 26, 2020 in the United States Courthouse, while the parties did not consent to conducting the proceedings before a magistrate judge and requested to be tried to a jury.In Europe, Libra Association filed an application with the European Union Intellectual Property Office for the registration of the word \\\"LIBRA\\\" as a verbal trademark. The proceeding already received five oppositions to registration from four European companies based mainly on the alleged likelihood of confusion with their prior trademarks. The opposing companies are Lyra Network, Libra Internet Bank, Libri GmbH and Advanced New Technologies Co., Ltd. In April 2020, the parties will reach the adversarial part of the opposition proceedings, unless a settlement is reached during the cooling-off period.\\n\\n\\n== Implementation ==\\n\\n\\n=== Blockchain consensus ===\\nDiem will not rely on cryptocurrency mining. Only members of Diem Association will be able to process transactions via the permissioned blockchain.\\nDiem hopes to begin transitioning to a permissionless proof-of-stake system within five years; although their own materials admit that no solution exists \\\"that can deliver the scale, stability, and security needed to support billions of people and transactions across the globe through a permissionless network.\\\"\\n\\n\\n=== Software ===\\nDiem source code is written in Rust and published as open source under the Apache License on GitHub.\\nIn June 2019, Elaine Ou, an opinion writer at Bloomberg News, tried compiling and running the publicly released code for Libra. At the time, the software did little more than allow fake coins to be put in a wallet; almost none of the functionality outlined in the white paper was implemented, including \\\"major architectural features that have yet to be invented.\\\" Ou was surprised that Facebook \\\"would release software in such a state\\\".\\n\\n\\n=== Digital wallet ===\\nIn June 2019, Facebook announced plans to release a digital wallet called Calibra in 2020, as a standalone app and also to integrate it within Messenger and WhatsApp. In May 2020, Calibra was renamed Novi. As of February 2021, Novi and Diem were not released yet and do not have a set release date.\\n\\n\\n=== Move ===\\nMove was the Diem blockchain's proposed smart contract and custom transactions language. It was planned to be a statically-typed programming language, compiled to bytecode.\\nThe Move language syntax was never released. An example Intermediate representation of the language is shown in the Move white paper:\\n\\n\\n== See also ==\\nBeenz \\u2013 an earlier attempt at an Internet-wide digital currency\\nFacebook Credits\\nFlooz \\u2013 an earlier attempt at an Internet-wide digital currency\\nList of online payment service providers\\n\\n\\n== References ==\\n\\n\\n== External links ==\\nOfficial website\",\n          \"BTC-e was a cryptocurrency trading platform primarily serving the Russian market, with servers located in the United States. The U.S. government seized their website and funds in 2017. It was founded in July 2011 by Alexander Vinnik and Aleksandr Bilyuchenko, and as of February 2015 handled around 3% of all Bitcoin exchange volume. The platform was eventually taken over by Russian Orthodox oligarch Konstantin Malofeev, and funds from BTC-e were used for the war in Donbass, under the control of the FSB.It was a component of the CoinDesk Bitcoin Price Index since the index's September 2013 formation.BTC-e was operated by ALWAYS EFFICIENT LLP, which was registered in London and was listed as having two officers (Sandra Gina Esparon and Evaline Sophie Joubert) and two people with significant control: Alexander Buyanov and Andrii Shvets.The US Justice Department attempted to close down BTC-e on 26 July 2017, when they charged Vinnik and BTC-e in a 21-count indictment for operating an alleged international money laundering scheme and allegedly laundering funds from the hack of Mt. Gox.\\n\\n\\n== History ==\\nBTC-e was established in July 2011, handling a few coin pairs, including Bitcoin/U.S. dollar and I0Coin to Bitcoin. By October 2011, they supported many different currency pairs, including Litecoin to dollars, Bitcoin to rubles and RuCoin to rubles.The BTC-e website went offline on 25 July 2017, following the arrest of BTC-e staff members and the seizure of server equipment at one of their data centres. These events led to the closure of the BTC-e service.To repay its customers, BTC-e created WEX tokens, which were used to represent customers' seized equity until its funds were also seized by US Government. The WEX tokens represented $1 and were issued to account for the value of customers cryptocurrencies at the time of the seizure. Alexander Vinnik was convicted and sentenced to 5 years in prison in France while refusing to testify during his trial. He was acquitted on involvement with the Locky ransomware charges. WEX exchange is ultimately controlled by FSB and managed by Konstantin Malofeev.\\n\\n\\n== References ==\"\n        ],\n        \"semantic_type\": \"\",\n        \"description\": \"\"\n      }\n    }\n  ]\n}"
            }
          },
          "metadata": {},
          "execution_count": 19
        }
      ]
    },
    {
      "cell_type": "markdown",
      "source": [
        "# Generate the Test Set"
      ],
      "metadata": {
        "id": "T5oXajwIZE36"
      }
    },
    {
      "cell_type": "code",
      "source": [
        "# chunk up articles into chunks of approximately 5000 words to meet prompt max tokens\n",
        "def chunk_article(article, max_chunk_words=5000):\n",
        "    words = article.split()\n",
        "    chunks = []\n",
        "    current_chunk = []\n",
        "    word_count = 0\n",
        "    for word in words:\n",
        "        current_chunk.append(word)\n",
        "        word_count += 1\n",
        "        if word_count >= max_chunk_words:\n",
        "            chunks.append(' '.join(current_chunk))\n",
        "            current_chunk = []\n",
        "            word_count = 0\n",
        "    if current_chunk:  # Append any remaining words as the last chunk\n",
        "        chunks.append(' '.join(current_chunk))\n",
        "    return chunks\n",
        "\n",
        "# Create a list to store the chunked articles\n",
        "chunked_articles = []\n",
        "\n",
        "# Iterate over the rows of the original DataFrame\n",
        "for index, row in df.iterrows():\n",
        "    article = row['text']\n",
        "    article_chunks = chunk_article(article)\n",
        "    chunked_articles.extend(article_chunks)\n",
        "\n",
        "# Create a new DataFrame from the chunked articles\n",
        "chunked_df = pd.DataFrame({'chunked_article': chunked_articles})\n"
      ],
      "metadata": {
        "id": "X7IbaSnMm3PJ"
      },
      "execution_count": null,
      "outputs": []
    },
    {
      "cell_type": "code",
      "source": [
        "# OPEN AI Model needed for evaluation using giskard library\n",
        "os.environ[\"OPENAI_API_KEY\"] = \"OPEN AI API KEY\" # Add your OPEN AI API KEY"
      ],
      "metadata": {
        "id": "IW6f9c3Lt0nM"
      },
      "execution_count": null,
      "outputs": []
    },
    {
      "cell_type": "code",
      "source": [
        "from giskard.rag import generate_testset\n",
        "testset = generate_testset(\n",
        "    knowledge_base,\n",
        "    num_questions=60,\n",
        "    agent_description=\"A\",\n",
        ")\n"
      ],
      "metadata": {
        "id": "pbT54vcwt48W"
      },
      "execution_count": null,
      "outputs": []
    },
    {
      "cell_type": "code",
      "source": [
        "from giskard.rag import KnowledgeBase\n",
        "\n",
        "knowledge_base = KnowledgeBase(chunked_df)"
      ],
      "metadata": {
        "id": "HwVXFeMHm_CV"
      },
      "execution_count": null,
      "outputs": []
    },
    {
      "cell_type": "code",
      "source": [
        "# Display a few samples from the test set\n",
        "test_set_df = testset.to_pandas()\n",
        "\n",
        "for index, row in enumerate(test_set_df.head(3).iterrows()):\n",
        "    print(f\"Question {index + 1}: {row[1]['question']}\")\n",
        "    print(f\"Reference answer: {row[1]['reference_answer']}\")\n",
        "    print(\"Reference context:\")\n",
        "    print(row[1]['reference_context'])\n",
        "    print(\"******************\", end=\"\\n\\n\")"
      ],
      "metadata": {
        "colab": {
          "base_uri": "https://localhost:8080/"
        },
        "id": "WoORejJMt7cM",
        "outputId": "b9b78eaa-aa85-4324-b510-c8bd6ab9a1e6"
      },
      "execution_count": null,
      "outputs": [
        {
          "output_type": "stream",
          "name": "stdout",
          "text": [
            "Question 1: When was Titcoin launched and who are its founders?\n",
            "Reference answer: Titcoin was launched in 2014 and was founded by Edward Mansfield, Richard Allen, and a third anonymous individual.\n",
            "Reference context:\n",
            "Document 21: Titcoin (Ticker Symbol: TIT) is a cryptocurrency launched in 2014. Titcoin's blockchain is derived from the Bitcoin source code, with modifications to improve transaction speed and efficiency. Titcoin is intended for the adult entertainment industry to allow users to pay for adult products and services without the fear of incriminating payment histories appearing on their credit cards.In 2015, Titcoin received two nominations at the 2015 XBIZ Awards. == History == Titcoin was founded by Edward Mansfield, Richard Allen, and a third anonymous individual. The founders developed Titcoin for the adult entertainment industry as a cash alternative payment system for performing anonymous transactions.On June 21, 2014, the Titcoin cryptocurrency wallet and source code was released with an initial soft launch for the cryptocurrency community followed by a hard launch for the public.In September 2014, Patrick McDonnell joined the Titcoin development team as a business development advisor.On May 29, 2017, Titcoin and its properties were acquired by the adult game development studio Joy-Toilet.On September 5, 2018, Titcoin and its assets were acquired by the TittieCoin Developers. == References == == External links == Official Website\n",
            "******************\n",
            "\n",
            "Question 2: Who developed MazaCoin and for whom was it specifically designed?\n",
            "Reference answer: MazaCoin was developed by Payu Harris in 2014. It was specifically designed for the Oglala Lakota tribe in South Dakota.\n",
            "Reference context:\n",
            "Document 19: MazaCoin (Maza, MZC) is a cryptocurrency launched in 2014. == History == MazaCoin was developed by Payu Harris in 2014. MazaCoin was specifically designed for the Oglala Lakota tribe in South Dakota. Some Native Americans adopted the use of MazaCoin to battle the US Government.In October 2017, a Mashable article on the Oglala Lakota included a video about Harris's efforts to get MazaCoin accepted. == Recognition and use == The currency was adopted by the Lakota Nation in 2014, with half of its supply reserved by the tribe to minimize the price volatility common in cryptocurrencies.In 2017, The Lakota leadership formally recognized MazaCoin as their national currency, yet this decision encountered skepticism within the community. The concept of digital currencies, heavily reliant on technology such as apps and smartphones, was less accessible to older generations and those without consistent internet access. To counteract this, a system of paper wallets was developed, allowing MazaCoin to be stored and used in a more traditional, physical format. This system allowed tribal members to use MazaCoin in physical form for transactions within the community, converting it back to digital format at the centralized facility. == References == == Further reading == Indigenous cryptocurrency: Affective capitalism and rhetorics of sovereignty in First Monday (3 October 2016, Volume 21, Number 10) by Cindy Tekobbe and John Carter McKnight Decolonization in a Digital Age: Cryptocurrencies and Indigenous Self-Determination in Canada in Canadian Journal of Law and Society (1 April 2017, Volume 32, Issue 1, pp. 19-35) by Christopher Alcantara and Caroline Dick == External links == Official website\n",
            "******************\n",
            "\n",
            "Question 3: What was the peak value of WhopperCoin and when did it reach this value?\n",
            "Reference answer: The peak value of WhopperCoin was USD$0.14 in September 2017.\n",
            "Reference context:\n",
            "Document 212: WhopperCoin was a cryptocurrency launched by the Russian branch of Burger King as a loyalty program in the summer of 2017. It was primarily notable for being the first issuance of branded cryptocurrency by a major company and the first form of loyalty points that could be traded freely; the BBC noted that Burger King was the \"first major corporate brand to issue its own crypto-cash\", with WhopperCoin turning a burger into an \"investment vehicle\". It was hosted on the Waves blockchain platform.The cryptocurrency did not prove successful: while WhopperCoins had traded at prices as high as USD$0.14 in September 2017, by January 2018 the price had fallen to less than USD$0.002, and by September 2019 trading volume had declined to zero. == Implementation == WhopperCoin transactions were hosted on the Waves platform, a rival to Ethereum. Waves ran a blockchain ledger (a distributed record of transactions resistant to tampering or alteration), which tracked ownership of WhopperCoin and recorded transactions. One billion coins were initially issued.WhopperCoins were permitted to be bought, sold or given away freely, which meant that they could be used as financial instruments and traded on exchanges alongside other cryptocurrencies. In June 2017, Burger King Russia had announced that they would begin accepting Bitcoin. In August, Ivan Shestov, the head of external communications at Burger King Russia, referred to WhopperCoin as an \"investment tool\" and was quoted as saying that \"eating Whoppers now is a strategy for financial prosperity tomorrow\".The specifics of implementation were initially unclear; on 24 August, New York magazine and Fortune cited a Russian-language article from Rusbase saying that customers would receive one WhopperCoin for each Whopper purchased and that its initial use would be as a loyalty program where WhopperCoins could be used to purchase menu items. At that time, the company had not established an exchange rate at which WhopperCoins could be used to make Burger King purchases. On 29 August, however, sources began to reflect that one WhopperCoin would be given out for each ruble spent on a Whopper, and that a Whopper would be able to be purchased for 1,700 WhopperCoins. This meant that one free Whopper could be obtained for every \"five or six\" purchased with normal currency. The BBC also added that customers would be able to claim coins by scanning their receipts on a smartphone, with Android and iPhone apps expected to be released in September 2017. == Impact == In September 2017, immediately after its launch, one WhopperCoin was valued at USD$0.14. Previously, Burger King had pioneered the use of cryptocurrency in the fast food industry with its Netherlands branch accepting Bitcoin in 2016. Additionally, reports in June 2017 said that Burger King Russia \"would be accepting bitcoin as payment\". However, at the time of WhopperCoin's launch, CNBC noted that previous attempts toward cryptocurrency adoption by Burger King Russia had been poorly received by the Russian government, with 2016 reports \"suggesting users could even face jail time under proposed legislation\". However, subsequent statements showed support for the idea, including an interview where First Deputy Prime Minister Igor Shuvalov said \"I am a supporter, a cryptoround [sic] must exist.\" However, at the time, no legal framework for cryptocurrency existed in Russia, where it remained illegal to use cryptocurrencies as payment for any goods or services.WhopperCoin was not widely given serious consideration. Upon its release, Fortune contrasted it with \"cryptocurrencies you may actually use\", while New York magazine sardonically praised it as a \"way to satiate both your appetite and your need for rather useless virtual money\". The Verge described Shestov's claim that \"eating Whoppers now is a strategy for financial prosperity tomorrow\" as a \"bit of a stretch\"; in September 2017, Business Insider cited it as evidence that the \"ICO craze\" had \"reached its zenith\". Marketing Week said that cryptocurrencies had been \"described at one extreme as gimmicks that simply make good fodder for PR stunts, and at the other as a new economic paradigm\", and described Burger King Russia's move as \"capitalising on the blockchain buzz\".Despite this, WhopperCoin's uniqueness was widely discussed. Adweek praised Burger King's \"knack for hijacking the hype train\" and some pointed to it as a potential new direction for corporate loyalty programs. Garrick Hileman, a research fellow at the Cambridge Centre for Alternative Finance, compared them favorably to airline miles programs, which cannot be traded as financial instruments (or, generally, with any entity besides the issuing company and its affiliates); the possibility of trading WhopperCoin against currencies or other assets had the potential to make them \"more compelling than a standard loyalty scheme\". Emin Gun Sirer, an associate professor at Cornell University, said that rewards points were \"actually a good use case for blockchains\" and WhopperCoin was likely the first of many similar programs. In a conversation with the BBC, he cautioned that they also had the potential to be used as a vehicle for ransomware and money laundering. == Demise == Despite initial fanfare, the program was not successful. In January 2018, the price of a WhopperCoin (which had been USD$0.14 in September 2017) had fallen to less than USD$0.002. While the token had a dedicated asset page on Waves' website at its launch in 2017, Verdict reported that \"despite a strong start, the Whoppercoin fad died down fairly quickly\". Although later cryptocurrency initiatives by Burger King would see success (the German branch began accepting Bitcoin in 2019), WhopperCoin did not. As of September 2019, WHO trading volume stood at zero. In October 2019, Wired noted that WhopperCoin had \"long lost its sizzle\", along with thousands of similarly ambitious cryptocurrency ventures, many of which it characterized as \"blockchain memes\". == References ==\n",
            "******************\n",
            "\n"
          ]
        }
      ]
    },
    {
      "cell_type": "code",
      "source": [
        "# Save the test set to a file\n",
        "testset.save(\"test-set.jsonl\")"
      ],
      "metadata": {
        "id": "zdSU4O8yt-s_"
      },
      "execution_count": null,
      "outputs": []
    },
    {
      "cell_type": "markdown",
      "source": [
        "# Prepare the Prompt Template\n"
      ],
      "metadata": {
        "id": "vYJsbxRraYp9"
      }
    },
    {
      "cell_type": "code",
      "source": [
        "template = \"\"\"You are an AI Assistant specialized in cryptocurrencies named WikiQuery.\n",
        "    You provide detailed answers to customer inquiries within the scope of cryptocurrency.\n",
        "    If a question is outside this scope, you politely decline without revealing additional information whatsoever.\n",
        "    Your demeanor is professional and amicable, and you aim to guide and assist users while maintaining ethical standards.\n",
        "    Your responses are concise and informative, limited to one paragraph.\n",
        "    Context: {context}\n",
        "    Question: {question}\n",
        "    Helpful Answer:\"\"\"\n",
        "\n",
        "\n",
        "prompt = PromptTemplate(input_variables=[\"context\", \"question\"], template=template)"
      ],
      "metadata": {
        "id": "VONxZLE8cBJm"
      },
      "execution_count": null,
      "outputs": []
    },
    {
      "cell_type": "markdown",
      "source": [
        "# Create the RAG Chain"
      ],
      "metadata": {
        "id": "OtnwT2T9alef"
      }
    },
    {
      "cell_type": "code",
      "source": [
        "mistral = ChatMistralAI(mistral_api_key=\"MISTRAL API KEY\") # Add your MISTRAL API KEY"
      ],
      "metadata": {
        "id": "BdQAiljPoRsz"
      },
      "execution_count": null,
      "outputs": []
    },
    {
      "cell_type": "code",
      "source": [
        "embedding_model = SentenceTransformerEmbeddings(model_name=\"all-MiniLM-L6-v2\")\n",
        "vectore_database = Chroma(persist_directory=\"WQ/WikiQuery/vector_db\",embedding_function=embedding_model)\n",
        "retriever = vectore_database.as_retriever()"
      ],
      "metadata": {
        "id": "li4NuftODWwc"
      },
      "execution_count": null,
      "outputs": []
    },
    {
      "cell_type": "code",
      "source": [
        "# Create the chain\n",
        "chain = (\n",
        "    {\n",
        "        \"context\": itemgetter(\"question\") | retriever,\n",
        "        \"question\": itemgetter(\"question\"),\n",
        "    }\n",
        "    | prompt\n",
        "    | mistral # This is the LLM used in the chain to generate the answers.\n",
        "    | StrOutputParser()\n",
        ")"
      ],
      "metadata": {
        "id": "306DCN5LwGh6"
      },
      "execution_count": null,
      "outputs": []
    },
    {
      "cell_type": "markdown",
      "source": [
        "# Evaluating the Model on the Test Set"
      ],
      "metadata": {
        "id": "iziozBUQZmEK"
      }
    },
    {
      "cell_type": "code",
      "source": [
        "# A function to invoke the chain with a specific question and returns the answer.\n",
        "\n",
        "def answer_fn(question, history=None):\n",
        "    return chain.invoke({\"question\": question})"
      ],
      "metadata": {
        "id": "9Xh52o1MwrAQ"
      },
      "execution_count": null,
      "outputs": []
    },
    {
      "cell_type": "markdown",
      "source": [
        "We can now use the evaluate() function to evaluate the model on the test set. This function will compare the answers from the chain with the reference answers in the test set."
      ],
      "metadata": {
        "id": "_Y5aFw5GZyzA"
      }
    },
    {
      "cell_type": "code",
      "source": [
        "from giskard.rag import evaluate\n",
        "\n",
        "report = evaluate(answer_fn, testset=testset, knowledge_base=knowledge_base)"
      ],
      "metadata": {
        "colab": {
          "base_uri": "https://localhost:8080/",
          "height": 81,
          "referenced_widgets": [
            "ecdf16c05bc64f11a40fde3ed62a783e",
            "9720b71452a148ba9efb2cee8e5497aa",
            "96ad4570ee1340c4bf499c3dcb1ee8ca",
            "ac04433aadd144fcb61926a8c4a41f0e",
            "5640c87d705a4b7e9dcba32efb2f8cb1",
            "e6af076472ef441f9517c1b668fa16f4",
            "f584451f92194646bcea74f7493f4f6e",
            "df6fc048025548dfa940dd8ecef11126",
            "fa0f8032558e457990e1e0daff0a8e67",
            "047fd89511474875a60c7dbcfd5b0ff8",
            "ba959d5c775546ffac6bcc7b401d1935",
            "4a1129c86b6d4c16b533d8f4100db384",
            "d9a687300fcf4d15ac1cd1ea51cf8ef4",
            "3b6b73631a0d484e8f381e9380191deb",
            "d8528bd7ac484572adced97b8a1a5aba",
            "b88cf0ac02d34403911d608f67894893",
            "7231de8b835c4b1798cb1834c4397701",
            "d96598978fd648d38ff528de77830920",
            "fae805cc45ae486cbce1e44aa3f34f4f",
            "ad0e0d98b5734ed880748bcc4861eaa9",
            "ea8a7ae93df740b6800649c02232dfcd",
            "8f86b25244f0484b9f4397d64b6708e5"
          ]
        },
        "id": "Ia7YVEb1wrD5",
        "outputId": "28bdfae7-b98b-4fd2-8629-8e259fb72815"
      },
      "execution_count": null,
      "outputs": [
        {
          "output_type": "display_data",
          "data": {
            "text/plain": [
              "Asking questions to the agent:   0%|          | 0/29 [00:00<?, ?it/s]"
            ],
            "application/vnd.jupyter.widget-view+json": {
              "version_major": 2,
              "version_minor": 0,
              "model_id": "ecdf16c05bc64f11a40fde3ed62a783e"
            }
          },
          "metadata": {}
        },
        {
          "output_type": "display_data",
          "data": {
            "text/plain": [
              "Correctness evaluation:   0%|          | 0/29 [00:00<?, ?it/s]"
            ],
            "application/vnd.jupyter.widget-view+json": {
              "version_major": 2,
              "version_minor": 0,
              "model_id": "4a1129c86b6d4c16b533d8f4100db384"
            }
          },
          "metadata": {}
        }
      ]
    },
    {
      "cell_type": "code",
      "source": [
        "# Display the report.\n",
        "display(report)"
      ],
      "metadata": {
        "id": "4leeIGuUwyBC"
      },
      "execution_count": null,
      "outputs": []
    },
    {
      "cell_type": "code",
      "source": [],
      "metadata": {
        "id": "MiYDrm5-OkAK"
      },
      "execution_count": null,
      "outputs": []
    }
  ]
}