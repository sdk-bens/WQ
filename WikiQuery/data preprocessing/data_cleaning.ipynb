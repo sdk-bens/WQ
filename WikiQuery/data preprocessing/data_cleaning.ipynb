{
  "nbformat": 4,
  "nbformat_minor": 0,
  "metadata": {
    "colab": {
      "provenance": []
    },
    "kernelspec": {
      "name": "python3",
      "display_name": "Python 3"
    },
    "language_info": {
      "name": "python"
    }
  },
  "cells": [
    {
      "cell_type": "code",
      "source": [
        "import os\n",
        "os.chdir(\"WQ/WikiQuery/data\")"
      ],
      "metadata": {
        "id": "RJ4YltyIEk49"
      },
      "execution_count": null,
      "outputs": []
    },
    {
      "cell_type": "code",
      "execution_count": null,
      "metadata": {
        "id": "xgjskWF11exY"
      },
      "outputs": [],
      "source": [
        "import pandas as pd\n",
        "from langchain.document_loaders import DataFrameLoader\n",
        "from google.colab import files\n",
        "from ydata_profiling import ProfileReport"
      ]
    },
    {
      "cell_type": "markdown",
      "source": [
        "# Getting the dataset from kaggle"
      ],
      "metadata": {
        "id": "HqDoJEYMceQ8"
      }
    },
    {
      "cell_type": "code",
      "source": [
        "# Upload kaggle API key file\n",
        "uploaded = files.upload()\n",
        "\n",
        "# Set up Kaggle API credentials by generating a kaggle API token to download\n",
        "# a file named kaggle.json.\n",
        "# Move the uploaded file to the required directory\n",
        "!mkdir -p ~/.kaggle\n",
        "!mv kaggle.json ~/.kaggle/\n",
        "!chmod 600 ~/.kaggle/kaggle.json\n",
        "\n",
        "# when propmted upload the kaggle.json you generated from your kaggle account"
      ],
      "metadata": {
        "id": "XJL_y6Yh1lIb"
      },
      "execution_count": null,
      "outputs": []
    },
    {
      "cell_type": "code",
      "source": [
        "# Download the dataset\n",
        "!kaggle datasets download -d lusfernandotorres/wikipedia-crypto-articles"
      ],
      "metadata": {
        "id": "NCKFFoJb1n8T"
      },
      "execution_count": null,
      "outputs": []
    },
    {
      "cell_type": "code",
      "source": [
        "# Unzip the dataset folder\n",
        "!unzip wikipedia-crypto-articles.zip"
      ],
      "metadata": {
        "id": "Bn54hOKI1qL2"
      },
      "execution_count": null,
      "outputs": []
    },
    {
      "cell_type": "markdown",
      "source": [
        "# Exprimental Data Analysis"
      ],
      "metadata": {
        "id": "qE5HM5EUcr3O"
      }
    },
    {
      "cell_type": "code",
      "source": [
        "# Convert the data to a dataframe\n",
        "crypto_wiki_articles = pd.read_csv('Wikipedia Crypto Articles.csv')"
      ],
      "metadata": {
        "id": "CAJ4LsEv1u3s"
      },
      "execution_count": null,
      "outputs": []
    },
    {
      "cell_type": "code",
      "source": [
        "# Printing the first 5 rows of the dataframe\n",
        "crypto_wiki_articles.head()"
      ],
      "metadata": {
        "id": "kuwlhXrx1u6A"
      },
      "execution_count": null,
      "outputs": []
    },
    {
      "cell_type": "code",
      "source": [
        "# Generating an explanatory data analysis report\n",
        "report = ProfileReport(crypto_wiki_articles, title = 'WikiQuery Project Dataset - Northeastern 2024')"
      ],
      "metadata": {
        "id": "hwqBqnKt1u8O"
      },
      "execution_count": null,
      "outputs": []
    },
    {
      "cell_type": "code",
      "source": [
        "# Displaying the report\n",
        "report"
      ],
      "metadata": {
        "id": "PuYG0Mo41u-z"
      },
      "execution_count": null,
      "outputs": []
    },
    {
      "cell_type": "code",
      "source": [
        "# Dropping missing articles\n",
        "crypto_wiki_articles = crypto_wiki_articles.dropna()"
      ],
      "metadata": {
        "id": "zBeVJ_2n1vBJ"
      },
      "execution_count": null,
      "outputs": []
    }
  ]
}