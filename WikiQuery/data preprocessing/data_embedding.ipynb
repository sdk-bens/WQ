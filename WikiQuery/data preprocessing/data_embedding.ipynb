{
  "nbformat": 4,
  "nbformat_minor": 0,
  "metadata": {
    "colab": {
      "provenance": []
    },
    "kernelspec": {
      "name": "python3",
      "display_name": "Python 3"
    },
    "language_info": {
      "name": "python"
    }
  },
  "cells": [
    {
      "cell_type": "code",
      "source": [
        "import torch\n",
        "from langchain.document_loaders import DataFrameLoader\n",
        "from langchain.text_splitter import RecursiveCharacterTextSplitter\n",
        "from langchain.embeddings import HuggingFaceEmbeddings\n",
        "from langchain.vectorstores import Chroma\n",
        "device = 'cuda' if torch.cuda.is_available() else 'cpu'"
      ],
      "metadata": {
        "id": "vesl-bB_2vid"
      },
      "execution_count": null,
      "outputs": []
    },
    {
      "cell_type": "code",
      "execution_count": null,
      "metadata": {
        "id": "w6ItlkJ62GZ3"
      },
      "outputs": [],
      "source": [
        "crypto_wiki_articles = \"WQ/WikiQuery/data/Wikipedia_Crypto_Articles.csv\"\n",
        "\n",
        "# Loading dataframe content into a document\n",
        "\n",
        "articles = DataFrameLoader(crypto_wiki_articles,\n",
        "                           page_content_column = \"article\")\n",
        "document = articles.load()"
      ]
    },
    {
      "cell_type": "code",
      "source": [
        "def split_documents_into_chunks(data, column_name=\"article\", chunk_size=500, chunk_overlap=50, separators=['\\n\\n', '\\n', '.']):\n",
        "    \"\"\"\n",
        "    Split documents into chunks.\n",
        "\n",
        "    Args:\n",
        "    data (DataFrame): Input data containing articles.\n",
        "    column_name (str): Name of the column containing the articles.\n",
        "    chunk_size (int): Size of each chunk.\n",
        "    chunk_overlap (int): Overlap between chunks.\n",
        "    separators (list): List of separators for splitting documents.\n",
        "\n",
        "    Returns:\n",
        "    list: List of document chunks.\n",
        "    \"\"\"\n",
        "    articles = DataFrameLoader(data, page_content_column=column_name)\n",
        "    document = articles.load()\n",
        "\n",
        "    text_splitter = RecursiveCharacterTextSplitter(\n",
        "        chunk_size=chunk_size,\n",
        "        chunk_overlap=chunk_overlap,\n",
        "        separators=separators,\n",
        "        length_function=len\n",
        "    )\n",
        "\n",
        "    document_chunks = text_splitter.split_documents(document)\n",
        "\n",
        "    return document_chunks\n"
      ],
      "metadata": {
        "id": "VfYdvzN1_OYR"
      },
      "execution_count": null,
      "outputs": []
    },
    {
      "cell_type": "code",
      "source": [
        "document_chunks = split_documents_into_chunks(document, column_name=\"article\", chunk_size=500, chunk_overlap=50, separators=['\\n\\n', '\\n', '.']):"
      ],
      "metadata": {
        "id": "RmtWQymy_SML"
      },
      "execution_count": null,
      "outputs": []
    },
    {
      "cell_type": "code",
      "source": [
        "def create_vector_database(doc_chunks, embedding_model, persist_directory\"):\n",
        "    \"\"\"\n",
        "    Create a vector database from document chunks.\n",
        "\n",
        "    Args:\n",
        "    doc_chunks (list): List of document chunks.\n",
        "    embedding_model: Embedding model for vectorization.\n",
        "    persist_directory (str): Directory to persist the vector database.\n",
        "\n",
        "    Returns:\n",
        "    Chroma: database successful creation message.\n",
        "    \"\"\"\n",
        "\n",
        "    try:\n",
        "        vec_database = Chroma.from_documents(\n",
        "            doc_chunks,\n",
        "            embedding_model,\n",
        "            persist_directory=persist_directory\n",
        "        )\n",
        "\n",
        "        return {\"message\": \"Vector database created successfully\"}\n",
        "\n",
        "    except Exception as e:\n",
        "        error_message = f\"Error occurred: {str(e)}\"\n",
        "        raise HTTPException(status_code=500, detail=error_message)"
      ],
      "metadata": {
        "id": "Db0WqUGm_hDe"
      },
      "execution_count": null,
      "outputs": []
    },
    {
      "cell_type": "code",
      "source": [
        "# Creating an embedding model\n",
        "%%capture\n",
        "embedding_model = HuggingFaceEmbeddings(model_name=\"sentence-transformers/all-MiniLM-L6-v2\")"
      ],
      "metadata": {
        "id": "yWSY_dSz_nL8"
      },
      "execution_count": null,
      "outputs": []
    },
    {
      "cell_type": "code",
      "source": [
        "persist_directory = \"WQ/WikiQuery/vector_db\"\n",
        "create_vector_database(document_chunks, embedding_model, persist_directory=persist_directory):"
      ],
      "metadata": {
        "id": "qMz2I4fK_inc"
      },
      "execution_count": null,
      "outputs": []
    },
    {
      "cell_type": "code",
      "source": [
        "# Printing the number of chunks\n",
        "\n",
        "len(document_chunks)"
      ],
      "metadata": {
        "id": "6UjR0XRb2Jbs"
      },
      "execution_count": null,
      "outputs": []
    },
    {
      "cell_type": "code",
      "source": [
        "# Initiate a chromadb instance to save the the data embeddings\n",
        "\n",
        "chroma_db = Chroma.from_documents(document_chunks,\n",
        "                                  embedding_model,\n",
        "                                  persist_directory = \"chroma_db\")\n",
        "\n",
        "retriever = chroma_db.as_retriever()"
      ],
      "metadata": {
        "id": "liIZmI7B2nXv"
      },
      "execution_count": null,
      "outputs": []
    },
    {
      "cell_type": "code",
      "source": [
        "# Testing the retriver functionality\n",
        "docs = retriever.get_relevant_documents(\"What is cryptocurrency\")"
      ],
      "metadata": {
        "id": "PCP-71Cw2nZ6"
      },
      "execution_count": null,
      "outputs": []
    },
    {
      "cell_type": "code",
      "source": [
        "len(docs)"
      ],
      "metadata": {
        "id": "RHCP1aga2ncC"
      },
      "execution_count": null,
      "outputs": []
    }
  ]
}